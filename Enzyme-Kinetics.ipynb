{
 "cells": [
  {
   "cell_type": "code",
   "execution_count": 15,
   "id": "b41e411a",
   "metadata": {
    "scrolled": true
   },
   "outputs": [],
   "source": [
    "import ode\n",
    "import numpy as np\n",
    "import matplotlib.pyplot as plt\n",
    "from vpython import *"
   ]
  },
  {
   "cell_type": "markdown",
   "id": "cee87dfb",
   "metadata": {},
   "source": [
    "# Kinetics Exploration"
   ]
  },
  {
   "cell_type": "markdown",
   "id": "c1de997b",
   "metadata": {},
   "source": [
    "Enzymes are biological entities (usually proteins) that speed up almost all chemical processes. They are necessary for life and perform various critical functions in the body, including digestion and metabolism. Without enzymes, many chemical reactions in the body would not occur rapidly enough to sustain life. Enzymes are organic molecules that speed up reactions. Enzymes work by lowering the activation energy of a specific reaction without being consumed in the reaction. They do so by binding to the substrate, and catalysis of the biological system begins. The reaction starts after the substrate is bonded and the newly produced product is released. A simplified version of the substrate to product is displayed below: "
   ]
  },
  {
   "cell_type": "markdown",
   "id": "80df4d9c",
   "metadata": {},
   "source": [
    " ${E}+{S}\\leftrightarrows{ES}\\leftrightarrows{E}+{P}$"
   ]
  },
  {
   "cell_type": "markdown",
   "id": "71d30cec",
   "metadata": {},
   "source": [
    "The forward reaction of $E+S$ is converted into $ES$ complex based off of the rate $k_1$ while the reverse reaction of $ES$ to $E+S$ is bassed on $k_2$. The forward reaction of $ES$ to $E+P$ is based on $k_3$ While the reverse reaction $E+P$ to $ES$ is based on $k_4$. "
   ]
  },
  {
   "cell_type": "markdown",
   "id": "10a7393c",
   "metadata": {},
   "source": [
    "#### The deferential equations for each reaction is written below:"
   ]
  },
  {
   "cell_type": "markdown",
   "id": "96232fb9",
   "metadata": {},
   "source": [
    "<font size=\"5\">$\\frac{d[S]}{dt}$</font><font size=\"4\">$=-K_{1}[E][S]+{k_2}[ES]$</font>\n",
    "\n",
    "\n",
    "<font size=\"5\">$\\frac{d[E]}{dt}$</font><font size=\"4\">$=-K_{1}[E][S]+{k_2}[ES]+{k_3}[ES]-{k_4}[E][P]$</font>\n",
    "\n",
    "\n",
    "\n",
    "<font size=\"5\">$\\frac{d[ES]}{dt}$</font><font size=\"4\">$=K_{1}[E][S]-{k_2}[ES]-{k_3}[ES]+{k_4}[E][P]$</font>\n",
    "\n",
    "\n",
    "<font size=\"5\">$\\frac{d[P]}{dt}$</font><font size=\"4\">$={k_3}[ES]-{k_4}[E][P]$</font>\n",
    "\n",
    "\n",
    "\n",
    "\n",
    "- $k_{1}$ is the rate of the change of substrate S in the presence of enzyme E to intermediate ES\n",
    "- $k_{2}$ is the reverse rate of change of intermediate ES back to Substrate\n",
    "- $k_{3}$ is the rate of change of ES to Product and Enzyme\n",
    "- $k_{4}$ is the reverse rate of change of Product and Enzyme back to ES"
   ]
  },
  {
   "cell_type": "markdown",
   "id": "f1d14595",
   "metadata": {},
   "source": [
    "#### Assumptions:\n",
    "* the reverse reaction of $E+P$ to $[ES] is negligible\n",
    "* start off with no ES or P "
   ]
  },
  {
   "cell_type": "markdown",
   "id": "1f8e36dd",
   "metadata": {},
   "source": [
    "**Initial Conditions:**\n",
    "* $k_1$ = 0.05 $\\frac{1}{s}$\n",
    "* $k_2$ = 0.1 $\\frac{1}{s}$\n",
    "* $k_3$ = 0.02 $\\frac{1}{s}$\n",
    "* $k_4$ = 0 $\\frac{1}{s}$\n",
    "* $E=3e-3\\frac{M}{s}$\n",
    "* $S=1e-3\\frac{M}{s}$\n",
    "* $ES=0\\frac{M}{s}$\n",
    "* $P=0\\frac{M}{s}$"
   ]
  },
  {
   "cell_type": "markdown",
   "id": "b0bb10c4",
   "metadata": {},
   "source": [
    "***"
   ]
  },
  {
   "cell_type": "markdown",
   "id": "6d6507b2",
   "metadata": {},
   "source": [
    "The function below integrates the differential equations shown above. The independent and dependent variables are listed below. Finally, arrays are created for the differential equations to be stored to plot them. "
   ]
  },
  {
   "cell_type": "code",
   "execution_count": 16,
   "id": "79707b2d",
   "metadata": {},
   "outputs": [],
   "source": [
    "def enzyme_kinetics(dep,t):\n",
    "    E = dep[0]\n",
    "    S = dep[1]\n",
    "    ES = dep[2]\n",
    "    P = dep[3]\n",
    "    \n",
    "    deriv = np.zeros(4)\n",
    "    deriv[0] = -k1*E*S + k2*ES + k3*ES - k4*E*P #dE/dt\n",
    "    deriv[1] = -k1*E*S + k2*ES #dS/dt\n",
    "    deriv[2] = k1*E*S - k2*ES - k3*ES + k4*E*P #dES/dt\n",
    "    deriv[3] = k3*ES - k4*E*P #dP/dt\n",
    "\n",
    "    return deriv \n"
   ]
  },
  {
   "cell_type": "code",
   "execution_count": 17,
   "id": "7363177f",
   "metadata": {},
   "outputs": [],
   "source": [
    "#dependent\n",
    "k1 = 0.05 #1/s\n",
    "k2 = 0.1 #1/s\n",
    "k3 = 0.02 #1/s\n",
    "k4 = 0 #1/s\n",
    "\n",
    "S0 = 1 #mM\n",
    "P0 = 0 #mM\n",
    "E0 = 10 #mM\n",
    "ES0 = 0 #mM\n",
    "data = np.array([E0,S0,ES0,P0]) #initialize array to store dependent variables\n",
    "\n",
    "#independent variables\n",
    "t = 0\n",
    "h = 0.05\n",
    "Nsteps = int(500/h) #N steps for T seconds of evolution\n",
    "\n",
    "#create arrays\n",
    "tarray = np.zeros(Nsteps)\n",
    "Sarray = np.zeros(Nsteps)\n",
    "Earray = np.zeros(Nsteps)\n",
    "ESarray = np.zeros(Nsteps)\n",
    "Parray = np.zeros(Nsteps)\n",
    "dpdtarray = np.zeros(Nsteps)\n",
    "\n",
    "tarray[0] = t\n",
    "Sarray[0] = S0\n",
    "Earray[0] = E0\n",
    "ESarray[0] = ES0\n",
    "Parray[0] = P0\n",
    "dpdtarray[0] = k3*ES0 - k4*E0*P0\n",
    "\n",
    "#create a time evolution loop\n",
    "for n in range(1,Nsteps):\n",
    "\n",
    "    data = ode.RK4(enzyme_kinetics, data, t, h) #update [substrate, product\n",
    "\n",
    "    t = t + h #update time\n",
    "\n",
    "    #store values in arrays\n",
    "    E = data[0]\n",
    "    S = data[1]\n",
    "    ES = data[2]\n",
    "    P = data[3]\n",
    "\n",
    "    tarray[n] = t #storing time\n",
    "    Earray[n] = E #store enzyme  \n",
    "    Sarray[n] = S #store substrate\n",
    "    ESarray[n] = ES #store complex\n",
    "    Parray[n] = P #store product\n",
    "    dpdtarray[n] = k3*ES - k4*E*P\n"
   ]
  },
  {
   "cell_type": "markdown",
   "id": "25062272",
   "metadata": {},
   "source": [
    "## Product Vs. Time"
   ]
  },
  {
   "cell_type": "code",
   "execution_count": 18,
   "id": "65954719",
   "metadata": {
    "scrolled": false
   },
   "outputs": [
    {
     "data": {
      "text/plain": [
       "[<matplotlib.lines.Line2D at 0x7fd13dcea730>]"
      ]
     },
     "execution_count": 18,
     "metadata": {},
     "output_type": "execute_result"
    },
    {
     "data": {
      "image/png": "[encoded data removed]",
      "text/plain": [
       "<Figure size 432x288 with 1 Axes>"
      ]
     },
     "metadata": {
      "needs_background": "light"
     },
     "output_type": "display_data"
    }
   ],
   "source": [
    "plt.title(\"Product vs. time\")\n",
    "plt.plot(tarray,Parray)"
   ]
  },
  {
   "cell_type": "markdown",
   "id": "ca99b4ca",
   "metadata": {},
   "source": [
    "This graph represents product vs. time. The product increases when it reaches a constant value. If time continues, no more product is being produced (all the reactants have produced product). This is because the enzyme speeds up the reaction (produces product faster). The goal of the enzyme is to increase to rate of $\\frac{dP}{dt}$. $\\frac{dP}{dt}$ is the slope, so when $\\frac{dP}{dt}$ is at a maximum, the reaction rate is at a max. The higher the intial concentration is the greater $\\frac{dP}{dt}$ will be. \n",
    "\n",
    "\n",
    "\n",
    "* *The slope of this graph is $\\frac{dP}{dt}$ and the goal of the enzyme is to increase the rate of $\\frac{dP}{dt}$. Lets see how $\\frac{dP}{dt}$ depends on substrate (SO).*\n"
   ]
  },
  {
   "cell_type": "code",
   "execution_count": 19,
   "id": "7f399a6e",
   "metadata": {},
   "outputs": [],
   "source": [
    "def go(S0):\n",
    "\n",
    "#S0 = 1 #mM\n",
    "    P0 = 0 #mM\n",
    "    E0 = 10 #mM\n",
    "    ES0 = 0 #mM\n",
    "    data = np.array([E0,S0,ES0,P0]) #initialize array to store dependent variables\n",
    "\n",
    "    #independent variables\n",
    "    t = 0\n",
    "    h = 0.05\n",
    "    Nsteps = int(30/h) #N steps for T seconds of evolution\n",
    "\n",
    "    #create arrays\n",
    "    tarray = np.zeros(Nsteps)\n",
    "    Sarray = np.zeros(Nsteps)\n",
    "    Earray = np.zeros(Nsteps)\n",
    "    ESarray = np.zeros(Nsteps)\n",
    "    Parray = np.zeros(Nsteps)\n",
    "    dpdtarray = np.zeros(Nsteps)\n",
    "\n",
    "    tarray[0] = t\n",
    "    Sarray[0] = S0\n",
    "    Earray[0] = E0\n",
    "    ESarray[0] = ES0\n",
    "    Parray[0] = P0\n",
    "    dpdtarray[0] = k3*ES0 - k4*E0*P0\n",
    "\n",
    "    #create a time evolution loop\n",
    "    for n in range(1,Nsteps):\n",
    "\n",
    "        data = ode.RK4(enzyme_kinetics, data, t, h) #update [substrate, product\n",
    "\n",
    "        t = t + h #update time\n",
    "\n",
    "        #store values in arrays\n",
    "        E = data[0]\n",
    "        S = data[1]\n",
    "        ES = data[2]\n",
    "        P = data[3]\n",
    "\n",
    "        tarray[n] = t #storing time\n",
    "        Earray[n] = E #store enzyme  \n",
    "        Sarray[n] = S #store substrate\n",
    "        ESarray[n] = ES #store complex\n",
    "        Parray[n] = P #store product\n",
    "        dpdtarray[n] = k3*ES - k4*E*P\n",
    "\n",
    "    return np.amax(dpdtarray)"
   ]
  },
  {
   "cell_type": "markdown",
   "id": "f6876c1e",
   "metadata": {},
   "source": [
    "## $\\frac{dP}{dt}$ vs. S0"
   ]
  },
  {
   "cell_type": "code",
   "execution_count": 26,
   "id": "da4f548e",
   "metadata": {
    "scrolled": true
   },
   "outputs": [
    {
     "data": {
      "image/png": "[encoded data removed]",
      "text/plain": [
       "<Figure size 432x288 with 1 Axes>"
      ]
     },
     "metadata": {
      "needs_background": "light"
     },
     "output_type": "display_data"
    }
   ],
   "source": [
    "k1 = 0.05 #1/s\n",
    "k2 = 0.1 #1/s\n",
    "k3 = 0.02 #1/s\n",
    "k4 = 0 #1/s\n",
    "\n",
    "dpdtmaxdata = []\n",
    "S0array = np.arange(2,200,2)\n",
    "\n",
    "for S0 in S0array:\n",
    "    dpdtmax = go(S0)\n",
    "    dpdtmaxdata.append(dpdtmax)\n",
    "\n",
    "fig = plt.figure()\n",
    "plt.title(\"dP/dt max vs S0\")\n",
    "plt.plot(S0array, dpdtmaxdata, 'b-')\n",
    "plt.xlabel('S0 (mM)')\n",
    "plt.ylabel('dP/dt max (mM/s)')\n",
    "plt.show()"
   ]
  },
  {
   "cell_type": "markdown",
   "id": "aff259cd",
   "metadata": {},
   "source": [
    "When you graph $\\frac{dP}{dt}$ vs. S0, and you look at when the substrate is 40, $\\frac{dP}{dt}$ is not at its max, so the rate of product formation is low. However, when you go from 20 to 40, a larger slope indicates that the rate of product formation is quicker. By doubling the substrate from 20 to 40, you double $\\frac{dP}{dt}$. Overall, we can conclude that increasing a substrate does not help beyond a specific value."
   ]
  },
  {
   "cell_type": "code",
   "execution_count": 21,
   "id": "083f54ca",
   "metadata": {},
   "outputs": [
    {
     "data": {
      "text/plain": [
       "0.19468014683330118"
      ]
     },
     "execution_count": 21,
     "metadata": {},
     "output_type": "execute_result"
    }
   ],
   "source": [
    "Vmax = np.amax(dpdtmaxdata)\n",
    "Vmax"
   ]
  },
  {
   "cell_type": "markdown",
   "id": "2e53044b",
   "metadata": {},
   "source": [
    "This is when $\\frac{dP}{dt}$ is a max, indicating that this is where the rate of product formation is at its highest. A larger S0 increases the maximum rate of product formation over time. A smaller S0 decreases the rate of product formation over time."
   ]
  },
  {
   "cell_type": "markdown",
   "id": "e75887ff",
   "metadata": {},
   "source": [
    "## Conclusion"
   ]
  },
  {
   "cell_type": "markdown",
   "id": "5303ef7c",
   "metadata": {},
   "source": [
    "Using ODEs, we examined the simple relationship between S and P. We found that when we decrease the amount of substrate, the amount of product increases. The rate of change of P over time is the slope ($\\frac{dP}{dt}$). $\\frac{dP}{dt}$ is the rate at which the product is formed. "
   ]
  }
 ],
 "metadata": {
  "kernelspec": {
   "display_name": "Python 3 (ipykernel)",
   "language": "python",
   "name": "python3"
  },
  "language_info": {
   "codemirror_mode": {
    "name": "ipython",
    "version": 3
   },
   "file_extension": ".py",
   "mimetype": "text/x-python",
   "name": "python",
   "nbconvert_exporter": "python",
   "pygments_lexer": "ipython3",
   "version": "3.9.7"
  }
 },
 "nbformat": 4,
 "nbformat_minor": 5
}
